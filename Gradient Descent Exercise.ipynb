{
 "cells": [
  {
   "cell_type": "markdown",
   "id": "64de60a0-3e48-44d4-bb23-15cf8fcbfcb7",
   "metadata": {},
   "source": [
    "### 1. Import libraries"
   ]
  },
  {
   "cell_type": "code",
   "execution_count": null,
   "id": "bc732daf-ba37-4e2b-881a-d05a0e177066",
   "metadata": {},
   "outputs": [],
   "source": [
    "# Importing necessary libraries\n",
    "import numpy as np\n",
    "import matplotlib.pyplot as plt\n",
    "import pandas as pd"
   ]
  },
  {
   "cell_type": "code",
   "execution_count": null,
   "id": "4e825195-a057-4af5-b7aa-4c0a1d3e22f8",
   "metadata": {},
   "outputs": [],
   "source": [
    "# Define the dataset\n",
    "#x = np.array([1,2,3,4,5])\n",
    "#y = np.array([5,9,8,15,13])"
   ]
  },
  {
   "cell_type": "markdown",
   "id": "7af9efb2-d397-48d5-b0c0-8bf6269bb799",
   "metadata": {},
   "source": [
    "### 2. Read the csv file from the laptop and assign x & y"
   ]
  },
  {
   "cell_type": "code",
   "execution_count": null,
   "id": "6ca5f3c4-bb12-4c4e-8374-aa9edacec58f",
   "metadata": {},
   "outputs": [],
   "source": [
    "# Path to the CSV file\n",
    "csv_file_path = \"/users/atikantjain/downloads/abalone.csv\"  # Replace this with the actual path to your CSV file\n",
    "\n",
    "# Read data from the CSV file using pandas\n",
    "df = pd.read_csv(csv_file_path)\n",
    "\n",
    "# Extract x and y values from the DataFrame\n",
    "x = df['Rings'].values  # Replace 'x_column_name' with the actual column name containing x values\n",
    "y = df['Age'].values  # Replace 'y_column_name' with the actual column name containing y values\n",
    "\n",
    "# Now, you can use the x and y arrays for further processing or plotting\n"
   ]
  },
  {
   "cell_type": "markdown",
   "id": "30c2dfa4-6d37-45f3-9050-a15da4ad7879",
   "metadata": {},
   "source": [
    "### 3. Define Gradient Descent function"
   ]
  },
  {
   "cell_type": "code",
   "execution_count": null,
   "id": "2813c963-fbed-44bf-ac99-a5d7328cfeea",
   "metadata": {},
   "outputs": [],
   "source": [
    "def gradient_descent(x, y):\n",
    "    m_curr = b_curr = 0   #Initially we have set both Slope and intercept to be 0\n",
    "    n = len(x) \n",
    "    epoch = 1000 # Number of interations\n",
    "    lr = 0.08 \n",
    "    # If you increase the lr and the cost value increases that means it has gone the other side and we need to reduce the lr\n",
    "    gradients = []\n",
    "\n",
    "    for i in range(epoch):\n",
    "        y_predicted = b_curr + m_curr * x\n",
    "        # We have used Mean Square Error - MSE as our loss function\n",
    "        cost = (1/n) * sum([val**2 for val in (y-y_predicted)])\n",
    "        md = -(2/n) * sum(x*(y-y_predicted)) # Derivative of Slope\n",
    "        bd = -(2/n) * sum(y-y_predicted) # Derivative of Intercept\n",
    "        m_curr = m_curr - lr * md\n",
    "        b_curr = b_curr - lr * bd\n",
    "        gradients.append((m_curr, b_curr))\n",
    "        print(\"m {}, b {}, cost {}, iteration {}\".format(m_curr, b_curr, cost, i))\n",
    "    \n",
    "    return gradients"
   ]
  },
  {
   "cell_type": "markdown",
   "id": "941eb108-f913-477a-aa38-7839a12495d1",
   "metadata": {},
   "source": [
    "### 4. Plot the graph with original points and gradient descent"
   ]
  },
  {
   "cell_type": "code",
   "execution_count": null,
   "id": "5436f3dd-a474-4169-a579-acd9b7a0a5e3",
   "metadata": {},
   "outputs": [],
   "source": [
    "# Run gradient descent and get gradients for each iteration\n",
    "gradients = gradient_descent(x, y)\n",
    "\n",
    "# Plot the original points\n",
    "plt.scatter(x, y, color='red', label='Original Points')\n",
    "\n",
    "# Plot the gradients for each iteration\n",
    "for m, b in gradients:\n",
    "    y_predicted = m * x + b\n",
    "    plt.plot(x, y_predicted, label='Gradient Line', alpha=0.5)  # Reduced alpha for better visualization\n",
    "\n",
    "plt.xlabel('X')\n",
    "plt.ylabel('Y')\n",
    "plt.title('Gradient Descent')\n",
    "plt.legend()\n",
    "plt.show()\n"
   ]
  },
  {
   "cell_type": "code",
   "execution_count": 29,
   "id": "0d3bfcc7-ec34-4881-9d46-944dc594a18f",
   "metadata": {},
   "outputs": [],
   "source": [
    "#   In the Example with dataset:\n",
    "#    x = np.array([1,2,3,4,5])\n",
    "#    y = np.array([5,9,8,15,13])\n",
    "#    epoch = 1000 & lr = 0.08\n",
    "#   Final Equation is :::::\n",
    "#    y = 2.2000000000008875 * x + 3.3999999999968"
   ]
  },
  {
   "cell_type": "code",
   "execution_count": null,
   "id": "ca0b691c-61cf-4021-ba82-f984ec69d89f",
   "metadata": {},
   "outputs": [],
   "source": []
  }
 ],
 "metadata": {
  "kernelspec": {
   "display_name": "Python 3 (ipykernel)",
   "language": "python",
   "name": "python3"
  },
  "language_info": {
   "codemirror_mode": {
    "name": "ipython",
    "version": 3
   },
   "file_extension": ".py",
   "mimetype": "text/x-python",
   "name": "python",
   "nbconvert_exporter": "python",
   "pygments_lexer": "ipython3",
   "version": "3.11.7"
  }
 },
 "nbformat": 4,
 "nbformat_minor": 5
}
